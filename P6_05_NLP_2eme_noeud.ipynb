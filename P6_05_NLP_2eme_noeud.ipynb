{
 "cells": [
  {
   "cell_type": "code",
   "execution_count": 1,
   "id": "6bbbb9d3",
   "metadata": {},
   "outputs": [],
   "source": [
    "from IPython.core.interactiveshell import InteractiveShell\n",
    "from IPython.display import display\n",
    "import pandas as pd\n",
    "import numpy as np\n",
    "import re\n",
    "from collections import Counter\n",
    "import spacy\n",
    "import spacy_universal_sentence_encoder\n",
    "from sklearn.feature_extraction.text import CountVectorizer, TfidfVectorizer\n",
    "from sklearn.decomposition import PCA, LatentDirichletAllocation, TruncatedSVD, NMF\n",
    "from sklearn.manifold import TSNE\n",
    "from sklearn.cluster import KMeans\n",
    "from sklearn.metrics.cluster import adjusted_rand_score\n",
    "from sklearn.ensemble import RandomForestClassifier\n",
    "from sklearn.pipeline import Pipeline\n",
    "from sklearn.model_selection import ParameterGrid\n",
    "from sklearn.base import BaseEstimator, TransformerMixin\n",
    "from sklearn.model_selection import GridSearchCV\n",
    "from tensorflow.math import softplus\n",
    "from sklearn.metrics import confusion_matrix\n",
    "import matplotlib.pyplot as plt\n",
    "import matplotlib.colors\n",
    "import seaborn as sns\n",
    "import time\n",
    "import warnings\n",
    "from sklearn.preprocessing import LabelEncoder"
   ]
  },
  {
   "cell_type": "code",
   "execution_count": 2,
   "id": "281c93e0",
   "metadata": {},
   "outputs": [],
   "source": [
    "# Sets the Ipython options\n",
    "\n",
    "InteractiveShell.ast_node_interactivity = \"all\""
   ]
  },
  {
   "cell_type": "code",
   "execution_count": 3,
   "id": "4d484eb7",
   "metadata": {},
   "outputs": [],
   "source": [
    "# Design\n",
    "\n",
    "# Sizes\n",
    "\n",
    "title_size = 50\n",
    "tick_size = 30\n",
    "text_size = 30"
   ]
  },
  {
   "cell_type": "code",
   "execution_count": 4,
   "id": "8822d7f8",
   "metadata": {},
   "outputs": [],
   "source": [
    "# Functions\n",
    "\n",
    "\n",
    "def clean_doc(text, pos_startegy=[], stop_words=[]):\n",
    "    \n",
    "    \"\"\"Returns lemmatized and lowered document according to a given \n",
    "    POS filtering strategy and stop words list.\"\"\"\n",
    "    \n",
    "    # Transforms the text in spacy's Doc object\n",
    "    with nlp.select_pipes(disable=[\"ner\"]):\n",
    "        doc = nlp(text)\n",
    "    \n",
    "    # Lists the Doc's tokens lowered, lemmatized and POS filtered\n",
    "    # Note : token.lemma_ doesn't returns lowered case tokens \n",
    "    # anymore hence the .lower()\n",
    "    \n",
    "    tokens = [token.lemma_.lower() for token in doc if token.pos_ in pos_startegy \n",
    "                                                    and not token.is_punct]\n",
    "\n",
    "    # Removes stop words from a given stop words list\n",
    "    # Note : the Spacy's token.is_stop has some buggs regarding to \n",
    "    # it's customization at the time this function is written \n",
    "    # hence the below coprehension list\n",
    "    \n",
    "    tokens = [i for i in tokens if i not in stop_words]\n",
    "    \n",
    "    # Returns the filtered, lemmatized, and lowered tokens joined\n",
    "    \n",
    "    return ' '.join(tokens)\n",
    "\n",
    "def return_stop_words_list(serie, \n",
    "                           pos_startegy=[], \n",
    "                           most_common_threshold=30, \n",
    "                           rare_tokens_threshold=1):\n",
    "    \n",
    "    \"\"\"Returns a list of stop words of a serie according to a given \n",
    "    POS filtering strategy, \n",
    "    most common words threshold and \n",
    "    rare occurences threshold.\n",
    "    \n",
    "    Stop words comes from :\n",
    "    \n",
    "    Default's Spacy stop words list\n",
    "    Plus the most common words list\n",
    "        (default threshold:30 most common words)\n",
    "    Plus the rare words list\n",
    "        (default threshold: 1 occurence)\"\"\"\n",
    "    \n",
    "    # Joins the texts of a serie to have one single text \n",
    "    \n",
    "    serie = ' '.join(serie.values)\n",
    "    \n",
    "    # Transforms the text in spacy's Doc object\n",
    "    with nlp.select_pipes(disable=[\"ner\"]):\n",
    "        doc = nlp(serie)\n",
    "    \n",
    "    # Lists the Doc's tokens lowered, lemmatized and POS filtered\n",
    "    \n",
    "    tokens = [token.lemma_.lower() for token in doc if token.pos_ in pos_startegy \n",
    "                                                    and not token.is_punct]\n",
    "    \n",
    "    \n",
    "    # Creates a counter of the word occurences\n",
    "    \n",
    "    tokens_frequency = Counter(tokens)\n",
    "    \n",
    "    # Retrieves a list of the most common occurences\n",
    "    \n",
    "    most_common_tokens = list(\n",
    "                            dict(\n",
    "                                tokens_frequency\n",
    "                                .most_common(most_common_threshold))\n",
    "                                .keys())\n",
    "    \n",
    "    # Retrieves a list of the rare words\n",
    "    \n",
    "    rare_tokens = [i for i, j in tokens_frequency.items() if j == rare_tokens_threshold]\n",
    "    \n",
    "    # Retrieves the default spacy's stop words\n",
    "    \n",
    "    default_stop_words = list(nlp.Defaults.stop_words)\n",
    "    \n",
    "    # Returns the tree above created lists into one : a stop word list \n",
    "    \n",
    "    return default_stop_words + most_common_tokens + rare_tokens\n",
    "\n",
    "\n",
    "\n",
    "def clean_doc_oov(text, embedder, pos_startegy=[], stop_words=[]):\n",
    "    \n",
    "    \"\"\"Returns lemmatized and lowered document according to a given \n",
    "    POS filtering strategy and stop words list.\"\"\"\n",
    "    \n",
    "    # Transforms the text in spacy's Doc object\n",
    "    \n",
    "    doc = nlp(text)\n",
    "    \n",
    "    # Lists the Doc's tokens lowered, lemmatized and POS filtered\n",
    "    # Note : token.lemma_ doesn't returns lowered case tokens \n",
    "    # anymore hence the .lower()\n",
    "    \n",
    "    tokens = [token.lemma_.lower() for token in doc if token.pos_ in pos_startegy \n",
    "                                                    and not token.is_punct]\n",
    "    \n",
    "    # Removes OOV for spacy mean accuracy\n",
    "    \n",
    "    doc_for_oov = embedder(' '.join(tokens))\n",
    "    \n",
    "    tokens = [token.text for token in doc_for_oov if not token.is_oov \n",
    "                                                  and not token.is_punct]\n",
    "    \n",
    "    # Removes stop words from a given stop words list\n",
    "    # Note : the Spacy's token.is_stop has some buggs regarding to \n",
    "    # it's customization at the time this function is written \n",
    "    # hence the below coprehension list\n",
    "    \n",
    "    tokens = [i for i in tokens if i not in stop_words]\n",
    "    \n",
    "    # Returns the filtered, lemmatized, and lowered tokens joined\n",
    "    \n",
    "    return ' '.join(tokens)\n",
    "\n",
    "\n",
    "def return_stop_words_list_oov(serie, embedder, \n",
    "                           pos_startegy=[], \n",
    "                           most_common_threshold=30, \n",
    "                           rare_tokens_threshold=1):\n",
    "    \n",
    "    \"\"\"Returns a list of stop words of a serie according to a given \n",
    "    POS filtering strategy, \n",
    "    most common words threshold and \n",
    "    rare occurences threshold.\n",
    "    \n",
    "    Stop words comes from :\n",
    "    \n",
    "    Default's Spacy stop words list\n",
    "    Plus the most common words list\n",
    "        (default threshold:30 most common words)\n",
    "    Plus the rare words list\n",
    "        (default threshold: 1 occurence)\"\"\"\n",
    "    \n",
    "    # Joins the texts of a serie to have one single text \n",
    "    \n",
    "    serie = ' '.join(serie.values)\n",
    "    \n",
    "    # Transforms the text in spacy's Doc object\n",
    "    \n",
    "    doc = nlp(serie)\n",
    "    \n",
    "    # Lists the Doc's tokens lowered, lemmatized and POS filtered\n",
    "    \n",
    "    tokens = [token.lemma_.lower() for token in doc if token.pos_ in pos_startegy \n",
    "                                                    and not token.is_punct]\n",
    "    \n",
    "    # Removes OOV for spacy mean accuracy\n",
    "    \n",
    "    doc_for_oov = embedder(' '.join(tokens))\n",
    "    \n",
    "    tokens = [token.text for token in doc_for_oov if not token.is_oov \n",
    "                                                  and not token.is_punct]\n",
    "    \n",
    "    # Creates a counter of the word occurences\n",
    "    \n",
    "    tokens_frequency = Counter(tokens)\n",
    "    \n",
    "    # Retrieves a list of the most common occurences\n",
    "    \n",
    "    most_common_tokens = list(\n",
    "                            dict(\n",
    "                                tokens_frequency\n",
    "                                .most_common(most_common_threshold))\n",
    "                                .keys())\n",
    "    \n",
    "    # Retrieves a list of the rare words\n",
    "    \n",
    "    rare_tokens = [i for i, j in tokens_frequency.items() if j == rare_tokens_threshold]\n",
    "    \n",
    "    # Retrieves the default spacy's stop words\n",
    "    \n",
    "    default_stop_words = list(nlp.Defaults.stop_words)\n",
    "    \n",
    "    # Returns the tree above created lists into one : a stop word list \n",
    "    \n",
    "    return default_stop_words + most_common_tokens + rare_tokens\n",
    "\n",
    "def vectorize_doc(text, embedder):\n",
    "    \n",
    "    \"\"\"Returns a specified text vectorized by a specified embedder\"\"\"\n",
    "    \n",
    "    doc = embedder(text)\n",
    "    \n",
    "    return doc.vector\n",
    "\n",
    "def bert_vectorizer(document):\n",
    "    \n",
    "    \"\"\"Returns a specified text vectorized by BERT embedder\"\"\"\n",
    "    \n",
    "    if document == '':\n",
    "        \n",
    "        return np.zeros(768)\n",
    "    \n",
    "    else:\n",
    "        # keep only the 128 first words\n",
    "        # https://huggingface.co/bert-base-uncased\n",
    "        tokens = re.split(' ', document)[:127]\n",
    "\n",
    "        doc = bert(' '.join(tokens))\n",
    "\n",
    "        return doc._.trf_data.tensors[1][0]\n",
    "    \n",
    "def commit_result_in_ari_score_df(results):\n",
    "    \n",
    "    \"\"\"Commits the specified results into ari_scores_df (initialized later on)\"\"\"\n",
    "    \n",
    "    for i in range(len(results)):     \n",
    "        ari_scores_df.loc[len(ari_scores_df)] = results[i]"
   ]
  },
  {
   "cell_type": "code",
   "execution_count": 5,
   "id": "c7522202",
   "metadata": {},
   "outputs": [],
   "source": [
    "class CorpusCleaner(BaseEstimator, TransformerMixin):\n",
    "    \n",
    "    \"\"\"Cleans a specified pd.Serie of texts\"\"\"\n",
    "    \n",
    "    def __init__(self, \n",
    "                 pos_startegy=['PROPN', 'NOUN', 'ADJ', 'VERB'],\n",
    "                 most_common_threshold=30, \n",
    "                 rare_tokens_threshold=1):\n",
    "        \n",
    "        self.pos_startegy = pos_startegy\n",
    "        self.most_common_threshold = most_common_threshold\n",
    "        self.rare_tokens_threshold = rare_tokens_threshold\n",
    "        \n",
    "    def fit(self, X, y=None):\n",
    "        return self\n",
    "    \n",
    "    def transform(self, X, y=None):\n",
    "        \n",
    "        X_ = X.copy()\n",
    "        \n",
    "        # Retrieves a stopword list\n",
    "        \n",
    "        stop_words = \\\n",
    "            return_stop_words_list(X_, \n",
    "                                   pos_startegy=\\\n",
    "                                       self.pos_startegy, \n",
    "                                   most_common_threshold=\\\n",
    "                                       self.most_common_threshold, \n",
    "                                   rare_tokens_threshold=\\\n",
    "                                       self.rare_tokens_threshold)\n",
    "        \n",
    "        # Cleans the text\n",
    "        \n",
    "        X_cleaned = X_.apply(lambda text: clean_doc(text, \n",
    "                                                    pos_startegy=self.pos_startegy, \n",
    "                                                    stop_words=stop_words))\n",
    "        \n",
    "        return X_cleaned\n",
    "\n",
    "class CorpusEmbedder(BaseEstimator, TransformerMixin):\n",
    "    \n",
    "    \"\"\"Cleans and Embbed (Context Free Embedder) a specified pd.Serie of texts\"\"\"\n",
    "    \n",
    "    def __init__(self,\n",
    "                 embedder=None,\n",
    "                 pos_startegy=['PROPN', 'NOUN', 'ADJ', 'VERB'],\n",
    "                 most_common_threshold=30, \n",
    "                 rare_tokens_threshold=1):\n",
    "        \n",
    "        self.pos_startegy = pos_startegy\n",
    "        self.embedder = embedder\n",
    "        self.most_common_threshold = most_common_threshold\n",
    "        self.rare_tokens_threshold = rare_tokens_threshold\n",
    "        \n",
    "    def fit(self, X, y=None):\n",
    "        return self\n",
    "    \n",
    "    def transform(self, X, y=None):\n",
    "        \n",
    "        X_ = X.copy()\n",
    "        \n",
    "        # Retrieves a stopword list\n",
    "        \n",
    "        stop_words = \\\n",
    "            return_stop_words_list_oov(X_,\n",
    "                                       embedder=\\\n",
    "                                           self.embedder,\n",
    "                                       pos_startegy=\\\n",
    "                                           self.pos_startegy, \n",
    "                                       most_common_threshold=\\\n",
    "                                           self.most_common_threshold, \n",
    "                                       rare_tokens_threshold=\\\n",
    "                                           self.rare_tokens_threshold)\n",
    "        \n",
    "        # Cleans the text\n",
    "        \n",
    "        X_cleaned = X_.apply(lambda text: clean_doc_oov(text,\n",
    "                                                        embedder=self.embedder,\n",
    "                                                        pos_startegy=self.pos_startegy, \n",
    "                                                        stop_words=stop_words))\n",
    "        \n",
    "        # Embbed the text\n",
    "        \n",
    "        X_embedded = X_cleaned.apply(lambda text: vectorize_doc(text, self.embedder))\n",
    "        \n",
    "        X_embedded_matrix = np.stack(X_embedded.values)\n",
    "        \n",
    "        return X_embedded_matrix\n",
    "\n",
    "class SentenceEmbedder(BaseEstimator, TransformerMixin):\n",
    "    \n",
    "    \"\"\"Cleans and Embbed (Sentences Embedders) a specified pd.Serie of texts\"\"\"\n",
    "    \n",
    "    def __init__(self,\n",
    "                 method=None,\n",
    "                 pos_startegy=['PROPN', 'NOUN', 'ADJ', 'VERB'],\n",
    "                 most_common_threshold=30, \n",
    "                 rare_tokens_threshold=1):\n",
    "        \n",
    "        self.method = method\n",
    "        self.pos_startegy = pos_startegy\n",
    "        self.most_common_threshold = most_common_threshold\n",
    "        self.rare_tokens_threshold = rare_tokens_threshold\n",
    "        \n",
    "    def fit(self, X, y=None):\n",
    "        return self\n",
    "    \n",
    "    def transform(self, X, y=None):\n",
    "        \n",
    "        X_ = X.copy()\n",
    "        \n",
    "        # Retrieves a stopword list\n",
    "        \n",
    "        stop_words = \\\n",
    "            return_stop_words_list(X_,\n",
    "                                   pos_startegy=\\\n",
    "                                       self.pos_startegy, \n",
    "                                   most_common_threshold=\\\n",
    "                                       self.most_common_threshold, \n",
    "                                   rare_tokens_threshold=\\\n",
    "                                       self.rare_tokens_threshold)\n",
    "        \n",
    "        # Cleans the text\n",
    "        \n",
    "        X_cleaned = X_.apply(lambda text: clean_doc(text,\n",
    "                                                    pos_startegy=self.pos_startegy, \n",
    "                                                    stop_words=stop_words))\n",
    "        \n",
    "        # Embbed the text\n",
    "        \n",
    "        if self.method == 'bert':\n",
    "            X_embedded = X_cleaned.apply(lambda text: bert_vectorizer(text))\n",
    "        elif self.method == 'use':\n",
    "            X_embedded = X_cleaned.apply(lambda text: use(text).vector)\n",
    "        \n",
    "        X_embedded_matrix = np.stack(X_embedded.values)\n",
    "        \n",
    "        return X_embedded_matrix"
   ]
  },
  {
   "cell_type": "code",
   "execution_count": 6,
   "id": "31934f65",
   "metadata": {},
   "outputs": [],
   "source": [
    "# Inits a random seed\n",
    "\n",
    "random_seed = 34\n",
    "\n",
    "# Imports cleaned dataset\n",
    "\n",
    "flipkart_df = \\\n",
    "    pd.read_csv(r'F:\\Data\\Projet 6\\Cleaned\\flipkart_cleaned')"
   ]
  },
  {
   "cell_type": "code",
   "execution_count": 7,
   "id": "03f3f36c",
   "metadata": {},
   "outputs": [],
   "source": [
    "# Spacy's Pipelines\n",
    "\n",
    "nlp = spacy.load(\"en_core_web_lg\")\n",
    "\n",
    "# NB : one might have to dowload a .txt version (dimentionality : 300)\n",
    "# of the below embedders before creating a spacy's (e.g spacy pipelines) \n",
    "# version of it to load them as below\n",
    "\n",
    "word2vec = spacy.load(\"../PretrainedModels/word2vec_lg_1\")\n",
    "glove = spacy.load(\"../PretrainedModels/glove_lg_2\")\n",
    "fast_text = spacy.load(\"../PretrainedModels/fastText\")"
   ]
  },
  {
   "cell_type": "code",
   "execution_count": 8,
   "id": "f2dc828d",
   "metadata": {},
   "outputs": [],
   "source": [
    "# Loads BERT and USE pipelines\n",
    "\n",
    "bert = spacy.load(\"en_core_web_trf\")\n",
    "use = spacy_universal_sentence_encoder.load_model('en_use_lg')"
   ]
  },
  {
   "cell_type": "markdown",
   "id": "ed06b400",
   "metadata": {},
   "source": [
    "<center><h1>Unsupervised"
   ]
  },
  {
   "cell_type": "markdown",
   "id": "6d7a71da",
   "metadata": {},
   "source": [
    "<h6>Set ups"
   ]
  },
  {
   "cell_type": "code",
   "execution_count": 9,
   "id": "a3d01f1c",
   "metadata": {},
   "outputs": [],
   "source": [
    "# Defines a pos_strategy\n",
    "\n",
    "pos_startegy = ['PROPN', 'NOUN', 'ADJ', 'VERB']"
   ]
  },
  {
   "cell_type": "code",
   "execution_count": 10,
   "id": "94d48b32",
   "metadata": {},
   "outputs": [],
   "source": [
    "# Defines X and y\n",
    "\n",
    "X = flipkart_df['description']\n",
    "y = LabelEncoder().fit_transform(flipkart_df['product_category_node_2'])"
   ]
  },
  {
   "cell_type": "code",
   "execution_count": 11,
   "id": "db52efe0",
   "metadata": {},
   "outputs": [],
   "source": [
    "# Inits a dataframe to commit results\n",
    "\n",
    "ari_scores_df = pd.DataFrame(columns=['Feature_Extraction',\n",
    "                                      'ARI',\n",
    "                                      'Preprocessing_name',\n",
    "                                      'Preprocessing_params',\n",
    "                                      'Fit_score'])"
   ]
  },
  {
   "cell_type": "code",
   "execution_count": 12,
   "id": "3b6efdaa",
   "metadata": {},
   "outputs": [],
   "source": [
    "# Inits a Tsne for visualization\n",
    "\n",
    "tSNE_visualizer = TSNE(n_components=2,\n",
    "                       learning_rate=300,\n",
    "                       perplexity=30,\n",
    "                       init='random',\n",
    "                       random_state=random_seed)"
   ]
  },
  {
   "cell_type": "markdown",
   "id": "f0f6feb8",
   "metadata": {},
   "source": [
    "<h6>Feature Extractions & Embeddings"
   ]
  },
  {
   "cell_type": "code",
   "execution_count": 13,
   "id": "1cd9327a",
   "metadata": {},
   "outputs": [
    {
     "data": {
      "text/plain": [
       "(1050, 3249)"
      ]
     },
     "execution_count": 13,
     "metadata": {},
     "output_type": "execute_result"
    },
    {
     "data": {
      "text/plain": [
       "(1050, 3249)"
      ]
     },
     "execution_count": 13,
     "metadata": {},
     "output_type": "execute_result"
    }
   ],
   "source": [
    "# Extracts features with BOW approches\n",
    "\n",
    "bow_cleaned_matrix = CorpusCleaner().fit_transform(X)\n",
    "\n",
    "count_vectorized_matrix = \\\n",
    "    np.asarray(CountVectorizer().fit_transform(bow_cleaned_matrix).todense())\n",
    "\n",
    "count_vectorized_matrix.shape\n",
    "\n",
    "tf_idf_matrix = \\\n",
    "    np.asarray(TfidfVectorizer().fit_transform(bow_cleaned_matrix).todense())\n",
    "\n",
    "tf_idf_matrix.shape"
   ]
  },
  {
   "cell_type": "code",
   "execution_count": 14,
   "id": "485d715a",
   "metadata": {},
   "outputs": [
    {
     "data": {
      "text/plain": [
       "(1050, 300)"
      ]
     },
     "execution_count": 14,
     "metadata": {},
     "output_type": "execute_result"
    },
    {
     "data": {
      "text/plain": [
       "(1050, 300)"
      ]
     },
     "execution_count": 14,
     "metadata": {},
     "output_type": "execute_result"
    },
    {
     "data": {
      "text/plain": [
       "(1050, 300)"
      ]
     },
     "execution_count": 14,
     "metadata": {},
     "output_type": "execute_result"
    },
    {
     "data": {
      "text/plain": [
       "(1050, 300)"
      ]
     },
     "execution_count": 14,
     "metadata": {},
     "output_type": "execute_result"
    }
   ],
   "source": [
    "# Creates Embedded Matrixes\n",
    "\n",
    "word2vec_matrix = CorpusEmbedder(embedder=word2vec)\\\n",
    "                    .fit_transform(X)\n",
    "\n",
    "word2vec_matrix.shape\n",
    "\n",
    "glove_matrix = CorpusEmbedder(embedder=glove)\\\n",
    "                    .fit_transform(X)\n",
    "\n",
    "glove_matrix.shape\n",
    "\n",
    "nlp_matrix = CorpusEmbedder(embedder=nlp)\\\n",
    "                    .fit_transform(X)\n",
    "\n",
    "nlp_matrix.shape\n",
    "\n",
    "fast_text_marix = CorpusEmbedder(embedder=fast_text)\\\n",
    "                    .fit_transform(X)\n",
    "\n",
    "fast_text_marix.shape"
   ]
  },
  {
   "cell_type": "code",
   "execution_count": 15,
   "id": "da74ee6d",
   "metadata": {},
   "outputs": [
    {
     "data": {
      "text/plain": [
       "(1050, 768)"
      ]
     },
     "execution_count": 15,
     "metadata": {},
     "output_type": "execute_result"
    },
    {
     "data": {
      "text/plain": [
       "(1050, 512)"
      ]
     },
     "execution_count": 15,
     "metadata": {},
     "output_type": "execute_result"
    }
   ],
   "source": [
    "# Creates Embedded Matrixes\n",
    "\n",
    "with warnings.catch_warnings():\n",
    "    \n",
    "    # UserWarning: User provided device_type of 'cuda', \n",
    "    # but CUDA is not available. Disabling\n",
    "    warnings.simplefilter('ignore')\n",
    "\n",
    "    bert_matrix = SentenceEmbedder(method='bert')\\\n",
    "                            .fit_transform(X)\n",
    "\n",
    "bert_matrix.shape\n",
    "\n",
    "use_matrix = SentenceEmbedder(method='use').fit_transform(X)\n",
    "\n",
    "use_matrix.shape"
   ]
  },
  {
   "cell_type": "code",
   "execution_count": 16,
   "id": "f0ab0ef1",
   "metadata": {},
   "outputs": [],
   "source": [
    "# Defines a dictionary with matrix names and matrixes \n",
    "\n",
    "matrix_dict = {\n",
    "    'Count_Vectorizer':count_vectorized_matrix ,\n",
    "    'Tf_Idf':tf_idf_matrix ,\n",
    "    'Word2vec':word2vec_matrix ,\n",
    "    'Glove':glove_matrix ,\n",
    "    'Fast_Text':fast_text_marix ,\n",
    "    'Spacy':nlp_matrix ,\n",
    "    'BERT':bert_matrix ,\n",
    "    'USE':use_matrix ,\n",
    "}"
   ]
  },
  {
   "cell_type": "markdown",
   "id": "cbc25e70",
   "metadata": {},
   "source": [
    "<center><h3>Modeling"
   ]
  },
  {
   "cell_type": "markdown",
   "id": "a2f3f5bd",
   "metadata": {},
   "source": [
    "<h6>No dimentionality reduction"
   ]
  },
  {
   "cell_type": "code",
   "execution_count": 17,
   "id": "cc29aa64",
   "metadata": {},
   "outputs": [],
   "source": [
    "# Inits a Kmeans\n",
    "\n",
    "kmeans = KMeans(n_clusters=62, random_state=random_seed)"
   ]
  },
  {
   "cell_type": "code",
   "execution_count": 18,
   "id": "d5037e2a",
   "metadata": {},
   "outputs": [
    {
     "data": {
      "text/plain": [
       "0.0993305655736322"
      ]
     },
     "execution_count": 18,
     "metadata": {},
     "output_type": "execute_result"
    },
    {
     "data": {
      "text/plain": [
       "0.2463389315402184"
      ]
     },
     "execution_count": 18,
     "metadata": {},
     "output_type": "execute_result"
    },
    {
     "data": {
      "text/plain": [
       "0.3619032117574549"
      ]
     },
     "execution_count": 18,
     "metadata": {},
     "output_type": "execute_result"
    },
    {
     "data": {
      "text/plain": [
       "0.3263533527800335"
      ]
     },
     "execution_count": 18,
     "metadata": {},
     "output_type": "execute_result"
    },
    {
     "data": {
      "text/plain": [
       "0.2769288640323242"
      ]
     },
     "execution_count": 18,
     "metadata": {},
     "output_type": "execute_result"
    },
    {
     "data": {
      "text/plain": [
       "0.3571521506821928"
      ]
     },
     "execution_count": 18,
     "metadata": {},
     "output_type": "execute_result"
    },
    {
     "data": {
      "text/plain": [
       "0.16553451354005067"
      ]
     },
     "execution_count": 18,
     "metadata": {},
     "output_type": "execute_result"
    },
    {
     "data": {
      "text/plain": [
       "0.36197960945013324"
      ]
     },
     "execution_count": 18,
     "metadata": {},
     "output_type": "execute_result"
    }
   ],
   "source": [
    "# Computes ARI on matrixes without dimentionality reduction\n",
    "\n",
    "adjusted_rand_score(y, kmeans.fit_predict(count_vectorized_matrix))\n",
    "\n",
    "adjusted_rand_score(y, kmeans.fit_predict(tf_idf_matrix))\n",
    "\n",
    "adjusted_rand_score(y, kmeans.fit_predict(word2vec_matrix))\n",
    "\n",
    "adjusted_rand_score(y, kmeans.fit_predict(glove_matrix))\n",
    "\n",
    "adjusted_rand_score(y, kmeans.fit_predict(fast_text_marix))\n",
    "\n",
    "adjusted_rand_score(y, kmeans.fit_predict(nlp_matrix))\n",
    "\n",
    "adjusted_rand_score(y, kmeans.fit_predict(bert_matrix))\n",
    "\n",
    "adjusted_rand_score(y, kmeans.fit_predict(use_matrix))"
   ]
  },
  {
   "cell_type": "markdown",
   "id": "764b86c7",
   "metadata": {},
   "source": [
    "<h6>PCA"
   ]
  },
  {
   "cell_type": "code",
   "execution_count": 19,
   "id": "e01b5745",
   "metadata": {},
   "outputs": [],
   "source": [
    "def pca_grid_search(matrix, grid, feature_extraction_name):\n",
    "    \n",
    "    \"\"\"Computes and return results of a 7-Means with a \n",
    "    PCA dimentionality reduction according to a specified \n",
    "    grid of params on a given matrix\"\"\"\n",
    "    \n",
    "    results = []\n",
    "\n",
    "    for i in list(grid):\n",
    "    \n",
    "        t0 = time.time()\n",
    "        \n",
    "        # Dimentionality reduction\n",
    "        with warnings.catch_warnings():\n",
    "        \n",
    "            warnings.simplefilter(action='ignore', category=FutureWarning)\n",
    "        \n",
    "            X_pca = PCA(n_components=i['pca__n_components'])\\\n",
    "                            .fit_transform(matrix)\n",
    "    \n",
    "        # Computes Kmeans predictions\n",
    "    \n",
    "        predictions = KMeans(n_clusters=62, random_state=random_seed)\\\n",
    "                        .fit_predict(X_pca)\n",
    "    \n",
    "        fit_time = time.time() - t0\n",
    "        \n",
    "        # Computes ARI score\n",
    "    \n",
    "        ari_score = adjusted_rand_score(y, predictions)\n",
    "    \n",
    "        \n",
    "        # Appends ARI Score\n",
    "    \n",
    "        results.append((feature_extraction_name, ari_score, 'PCA', i, fit_time))\n",
    "        \n",
    "    return results"
   ]
  },
  {
   "cell_type": "code",
   "execution_count": 20,
   "id": "aeb9dee4",
   "metadata": {},
   "outputs": [],
   "source": [
    "# Defines a grid of params\n",
    "\n",
    "pca_pipeline_params_grid = \\\n",
    "    ParameterGrid({'pca__n_components': [0.9,0.8,0.7,0.6,0.5,0.4,0.3,0.2,0.1]})"
   ]
  },
  {
   "cell_type": "code",
   "execution_count": 21,
   "id": "04c05a71",
   "metadata": {},
   "outputs": [
    {
     "name": "stdout",
     "output_type": "stream",
     "text": [
      "Computing : Count_Vectorizer\n",
      "Computing : Tf_Idf\n",
      "Computing : Word2vec\n",
      "Computing : Glove\n",
      "Computing : Fast_Text\n",
      "Computing : Spacy\n",
      "Computing : BERT\n",
      "Computing : USE\n",
      "DONE\n"
     ]
    }
   ],
   "source": [
    "# Computes for each matrixes the results provided by the above dimentionality\n",
    "# reduction technique\n",
    "\n",
    "for matrix_name, matrix in matrix_dict.items():\n",
    "    \n",
    "    print('Computing :', matrix_name)\n",
    "    \n",
    "    results = pca_grid_search(matrix, pca_pipeline_params_grid, matrix_name)\n",
    "\n",
    "    commit_result_in_ari_score_df(results)\n",
    "    \n",
    "print('DONE')"
   ]
  },
  {
   "cell_type": "markdown",
   "id": "bbd4f25b",
   "metadata": {},
   "source": [
    "<h6>PCA + TSNE"
   ]
  },
  {
   "cell_type": "code",
   "execution_count": 22,
   "id": "d7687dd6",
   "metadata": {},
   "outputs": [],
   "source": [
    "def pca_tsne_grid_search(matrix, grid, feature_extraction_name, verbose=False):\n",
    "    \n",
    "    \"\"\"Computes and return results of a 7-Means with a \n",
    "    PCA + TSNE dimentionality reduction according to a specified \n",
    "    grid of params on a given matrix\"\"\"\n",
    "\n",
    "    results = []\n",
    "\n",
    "    for i in list(grid):\n",
    "        \n",
    "        t0 = time.time()\n",
    "        \n",
    "        if verbose:\n",
    "            print(i)\n",
    "\n",
    "        # Dimentionality reduction\n",
    "        with warnings.catch_warnings():\n",
    "        \n",
    "            warnings.simplefilter(action='ignore', category=FutureWarning)\n",
    "            \n",
    "            X_pca = PCA(n_components=i['pca__n_components'])\\\n",
    "                            .fit_transform(matrix)\n",
    "    \n",
    "            X_tSNE = TSNE(n_components=i['tsne__n_components'], \n",
    "                          perplexity=i['perplexity'], \n",
    "                          learning_rate=i['learning_rate'], \n",
    "                          init='random',\n",
    "                          random_state=random_seed)\\\n",
    "                            .fit_transform(X_pca)\n",
    "    \n",
    "        # Computes Kmeans predictions\n",
    "    \n",
    "        predictions = KMeans(n_clusters=62, random_state=random_seed)\\\n",
    "                        .fit_predict(X_tSNE)\n",
    "        \n",
    "        fit_time = time.time() - t0\n",
    "    \n",
    "        # Computes ARI score\n",
    "    \n",
    "        ari_score = adjusted_rand_score(y, predictions)\n",
    "    \n",
    "        \n",
    "        # Appends ARI Score\n",
    "    \n",
    "        results.append((feature_extraction_name, ari_score, 'PCA TSNE', i, fit_time))\n",
    "    \n",
    "    return results"
   ]
  },
  {
   "cell_type": "code",
   "execution_count": 23,
   "id": "8531f2b9",
   "metadata": {},
   "outputs": [],
   "source": [
    "# Defines a grid of params\n",
    "\n",
    "pca_tsne_pipeline_params_grid = \\\n",
    "    ParameterGrid(\n",
    "           [{'pca__n_components': [0.9,0.8,0.7,0.6,0.5,0.4],\n",
    "             'tsne__n_components': [2,3], \n",
    "             'perplexity':[30,40],\n",
    "             'learning_rate':[300],\n",
    "             'method':['barnes_hut']}])"
   ]
  },
  {
   "cell_type": "code",
   "execution_count": 24,
   "id": "d298489d",
   "metadata": {},
   "outputs": [
    {
     "name": "stdout",
     "output_type": "stream",
     "text": [
      "Computing : Count_Vectorizer\n",
      "Computing : Tf_Idf\n",
      "Computing : Word2vec\n",
      "Computing : Glove\n",
      "Computing : Fast_Text\n",
      "Computing : Spacy\n",
      "Computing : BERT\n",
      "Computing : USE\n",
      "DONE\n"
     ]
    }
   ],
   "source": [
    "# Computes for each matrixes the results provided by the above dimentionality\n",
    "# reduction technique\n",
    "\n",
    "for matrix_name, matrix in matrix_dict.items():\n",
    "    \n",
    "    print('Computing :', matrix_name)\n",
    "    \n",
    "    results = pca_tsne_grid_search(matrix, pca_tsne_pipeline_params_grid, matrix_name)\n",
    "\n",
    "    commit_result_in_ari_score_df(results)\n",
    "    \n",
    "print('DONE')"
   ]
  },
  {
   "cell_type": "markdown",
   "id": "40e1d71d",
   "metadata": {},
   "source": [
    "<h6>LDA"
   ]
  },
  {
   "cell_type": "code",
   "execution_count": 25,
   "id": "9af31444",
   "metadata": {},
   "outputs": [],
   "source": [
    "def lda_grid_search(matrix, grid, feature_extraction_name, verbose=False):\n",
    "    \n",
    "    \"\"\"Computes and return results of a 7-Means with a \n",
    "    LDA dimentionality reduction according to a specified \n",
    "    grid of params on a given  matrix\"\"\"\n",
    "\n",
    "    results = []\n",
    "\n",
    "    for i in list(grid):\n",
    "        \n",
    "        if verbose:\n",
    "            \n",
    "            print(i)\n",
    "\n",
    "        if feature_extraction_name not in ['Count_Vectorizer', 'Tf_Idf']:\n",
    "            \n",
    "            matrix = softplus(matrix) \n",
    "            \n",
    "            \n",
    "        # Dimentionality reduction\n",
    "        \n",
    "        t0 = time.time()\n",
    "      \n",
    "        X_lda = LatentDirichletAllocation(n_components=i['lda__n_components'], \n",
    "                                          random_state=random_seed).fit_transform(matrix)\n",
    "    \n",
    "        # Computes Kmeans predictions\n",
    "    \n",
    "        predictions = KMeans(n_clusters=62, random_state=random_seed)\\\n",
    "                        .fit_predict(X_lda)\n",
    "        \n",
    "        fit_time = time.time() - t0\n",
    "    \n",
    "        # Computes ARI score\n",
    "    \n",
    "        ari_score = adjusted_rand_score(y,predictions)\n",
    "    \n",
    "        \n",
    "        # Appends ARI Score\n",
    "    \n",
    "        results.append((feature_extraction_name, ari_score, 'LDA', i, fit_time))\n",
    "    \n",
    "    return results"
   ]
  },
  {
   "cell_type": "code",
   "execution_count": 26,
   "id": "99a2fc86",
   "metadata": {},
   "outputs": [],
   "source": [
    "# Defines a grid of params\n",
    "\n",
    "lda_pipeline_params_grid = \\\n",
    "    ParameterGrid(\n",
    "           [{'lda__n_components': [2,5,10]}])"
   ]
  },
  {
   "cell_type": "code",
   "execution_count": 27,
   "id": "e24f8a0e",
   "metadata": {},
   "outputs": [
    {
     "name": "stdout",
     "output_type": "stream",
     "text": [
      "Computing : Count_Vectorizer\n",
      "Computing : Tf_Idf\n",
      "Computing : Word2vec\n",
      "Computing : Glove\n",
      "Computing : Fast_Text\n",
      "Computing : Spacy\n",
      "Computing : BERT\n",
      "Computing : USE\n",
      "DONE\n"
     ]
    }
   ],
   "source": [
    "# Computes for each matrixes the results provided by the above dimentionality\n",
    "# reduction technique\n",
    "\n",
    "for matrix_name, matrix in matrix_dict.items():\n",
    "    \n",
    "    print('Computing :', matrix_name)\n",
    "    \n",
    "    results = lda_grid_search(matrix, lda_pipeline_params_grid, matrix_name)\n",
    "\n",
    "    commit_result_in_ari_score_df(results)\n",
    "    \n",
    "print('DONE')"
   ]
  },
  {
   "cell_type": "markdown",
   "id": "1358e4e1",
   "metadata": {},
   "source": [
    "<h6>SVD"
   ]
  },
  {
   "cell_type": "code",
   "execution_count": 28,
   "id": "1f326110",
   "metadata": {},
   "outputs": [],
   "source": [
    "def svd_grid_search(matrix, grid, feature_extraction_name, verbose=False):\n",
    "    \n",
    "    \"\"\"Computes and return results of a 7-Means with a \n",
    "    SVD dimentionality reduction according to a specified \n",
    "    grid of params on a given matrix\"\"\"\n",
    "\n",
    "    results = []\n",
    "\n",
    "    for i in list(grid):\n",
    "        \n",
    "        if verbose:\n",
    "            print(i)\n",
    "\n",
    "        # Dimentionality reduction\n",
    "        \n",
    "        t0 = time.time()\n",
    "            \n",
    "        svd = TruncatedSVD(n_components=i['svd__n_components'], \n",
    "                    random_state=random_seed).fit_transform(matrix)\n",
    "    \n",
    "        # Computes Kmeans predictions\n",
    "    \n",
    "        predictions = KMeans(n_clusters=62, random_state=random_seed)\\\n",
    "                        .fit_predict(svd)\n",
    "        \n",
    "        fit_time = time.time() - t0\n",
    "    \n",
    "        # Computes ARI score\n",
    "    \n",
    "        ari_score = adjusted_rand_score(y, predictions)\n",
    "    \n",
    "        \n",
    "        # Appends ARI Score\n",
    "    \n",
    "        results.append((feature_extraction_name, ari_score, 'SVD', i, fit_time))\n",
    "    \n",
    "    return results"
   ]
  },
  {
   "cell_type": "code",
   "execution_count": 29,
   "id": "38acca37",
   "metadata": {},
   "outputs": [],
   "source": [
    "# Defines a grid of params\n",
    "\n",
    "svd_pipeline_params_grid = \\\n",
    "    ParameterGrid(\n",
    "           [{'svd__n_components': [2,5,10]}])"
   ]
  },
  {
   "cell_type": "code",
   "execution_count": 30,
   "id": "2347be00",
   "metadata": {},
   "outputs": [
    {
     "name": "stdout",
     "output_type": "stream",
     "text": [
      "Computing : Count_Vectorizer\n",
      "Computing : Tf_Idf\n",
      "Computing : Word2vec\n",
      "Computing : Glove\n",
      "Computing : Fast_Text\n",
      "Computing : Spacy\n",
      "Computing : BERT\n",
      "Computing : USE\n",
      "DONE\n"
     ]
    }
   ],
   "source": [
    "# Computes for each matrixes the results provided by the above dimentionality\n",
    "# reduction technique\n",
    "\n",
    "for matrix_name, matrix in matrix_dict.items():\n",
    "    \n",
    "    print('Computing :', matrix_name)\n",
    "    \n",
    "    results = svd_grid_search(matrix, svd_pipeline_params_grid, matrix_name)\n",
    "\n",
    "    commit_result_in_ari_score_df(results)\n",
    "    \n",
    "print('DONE')"
   ]
  },
  {
   "cell_type": "markdown",
   "id": "0c0646da",
   "metadata": {},
   "source": [
    "<h6>NMF"
   ]
  },
  {
   "cell_type": "code",
   "execution_count": 31,
   "id": "b9317e8c",
   "metadata": {},
   "outputs": [],
   "source": [
    "def nmf_grid_search(matrix, grid, feature_extraction_name, verbose=False):\n",
    "    \n",
    "    \"\"\"Computes and return results of a 7-Means with a \n",
    "    NMF dimentionality reduction according to a specified \n",
    "    grid of params on a given matrix\"\"\"\n",
    "\n",
    "    results = []\n",
    "\n",
    "    for i in list(grid):\n",
    "        \n",
    "        if verbose:\n",
    "            print(i)\n",
    "            \n",
    "        if feature_extraction_name not in ['Count_Vectorizer', 'Tf_Idf']:\n",
    "            \n",
    "            matrix = softplus(matrix) \n",
    "\n",
    "        # Dimentionality reduction\n",
    "        \n",
    "        t0 = time.time()\n",
    "        \n",
    "        X_nmf = NMF(n_components=i['nmf__n_components'], \n",
    "                    random_state=random_seed,\n",
    "                    max_iter=10000,\n",
    "                    init='random').fit_transform(matrix)\n",
    "    \n",
    "        # Computes Kmeans predictions\n",
    "    \n",
    "        predictions = KMeans(n_clusters=62, random_state=random_seed)\\\n",
    "                        .fit_predict(X_nmf)\n",
    "        \n",
    "        fit_time = time.time() - t0\n",
    "    \n",
    "        # Computes ARI score\n",
    "    \n",
    "        ari_score = adjusted_rand_score(y, predictions)\n",
    "    \n",
    "        \n",
    "        # Appends ARI Score\n",
    "    \n",
    "        results.append((feature_extraction_name, ari_score, 'NMF', i, fit_time))\n",
    "    \n",
    "    return results"
   ]
  },
  {
   "cell_type": "code",
   "execution_count": 32,
   "id": "d6f56752",
   "metadata": {},
   "outputs": [],
   "source": [
    "# Defines a grid of params\n",
    "\n",
    "nmf_pipeline_params_grid = \\\n",
    "    ParameterGrid(\n",
    "           [{'nmf__n_components': [2,5,10,50]}])"
   ]
  },
  {
   "cell_type": "code",
   "execution_count": 33,
   "id": "3fc2c2da",
   "metadata": {},
   "outputs": [
    {
     "name": "stdout",
     "output_type": "stream",
     "text": [
      "Computing : Count_Vectorizer\n",
      "Computing : Tf_Idf\n",
      "Computing : Word2vec\n",
      "Computing : Glove\n",
      "Computing : Fast_Text\n",
      "Computing : Spacy\n",
      "Computing : BERT\n",
      "Computing : USE\n",
      "DONE\n"
     ]
    }
   ],
   "source": [
    "# Computes for each matrixes the results provided by the above dimentionality\n",
    "# reduction technique\n",
    "\n",
    "for matrix_name, matrix in matrix_dict.items():\n",
    "    \n",
    "    print('Computing :', matrix_name)\n",
    "    \n",
    "    results = nmf_grid_search(matrix, nmf_pipeline_params_grid, matrix_name)\n",
    "\n",
    "    commit_result_in_ari_score_df(results)\n",
    "    \n",
    "print('DONE')"
   ]
  },
  {
   "cell_type": "markdown",
   "id": "62b338eb",
   "metadata": {},
   "source": [
    "<center><h3>Results<h65>"
   ]
  },
  {
   "cell_type": "markdown",
   "id": "d47e6fed",
   "metadata": {},
   "source": [
    "<h3>Rankings"
   ]
  },
  {
   "cell_type": "code",
   "execution_count": 34,
   "id": "0802cf79",
   "metadata": {},
   "outputs": [
    {
     "data": {
      "text/html": [
       "<div>\n",
       "<style scoped>\n",
       "    .dataframe tbody tr th:only-of-type {\n",
       "        vertical-align: middle;\n",
       "    }\n",
       "\n",
       "    .dataframe tbody tr th {\n",
       "        vertical-align: top;\n",
       "    }\n",
       "\n",
       "    .dataframe thead th {\n",
       "        text-align: right;\n",
       "    }\n",
       "</style>\n",
       "<table border=\"1\" class=\"dataframe\">\n",
       "  <thead>\n",
       "    <tr style=\"text-align: right;\">\n",
       "      <th></th>\n",
       "      <th>Feature_Extraction</th>\n",
       "      <th>ARI</th>\n",
       "      <th>Preprocessing_name</th>\n",
       "      <th>Preprocessing_params</th>\n",
       "      <th>Fit_score</th>\n",
       "    </tr>\n",
       "  </thead>\n",
       "  <tbody>\n",
       "    <tr>\n",
       "      <th>90</th>\n",
       "      <td>Count_Vectorizer</td>\n",
       "      <td>0.356129</td>\n",
       "      <td>PCA TSNE</td>\n",
       "      <td>{'learning_rate': 300, 'method': 'barnes_hut', 'pca__n_components': 0.5, 'perplexity': 40, 'tsne__n_components': 2}</td>\n",
       "      <td>9.233767</td>\n",
       "    </tr>\n",
       "    <tr>\n",
       "      <th>38</th>\n",
       "      <td>Fast_Text</td>\n",
       "      <td>0.348862</td>\n",
       "      <td>PCA</td>\n",
       "      <td>{'pca__n_components': 0.7}</td>\n",
       "      <td>0.598999</td>\n",
       "    </tr>\n",
       "    <tr>\n",
       "      <th>19</th>\n",
       "      <td>Word2vec</td>\n",
       "      <td>0.347887</td>\n",
       "      <td>PCA</td>\n",
       "      <td>{'pca__n_components': 0.8}</td>\n",
       "      <td>0.667997</td>\n",
       "    </tr>\n",
       "    <tr>\n",
       "      <th>65</th>\n",
       "      <td>USE</td>\n",
       "      <td>0.347113</td>\n",
       "      <td>PCA</td>\n",
       "      <td>{'pca__n_components': 0.7}</td>\n",
       "      <td>0.616001</td>\n",
       "    </tr>\n",
       "    <tr>\n",
       "      <th>28</th>\n",
       "      <td>Glove</td>\n",
       "      <td>0.343875</td>\n",
       "      <td>PCA</td>\n",
       "      <td>{'pca__n_components': 0.8}</td>\n",
       "      <td>0.860000</td>\n",
       "    </tr>\n",
       "    <tr>\n",
       "      <th>46</th>\n",
       "      <td>Spacy</td>\n",
       "      <td>0.340565</td>\n",
       "      <td>PCA</td>\n",
       "      <td>{'pca__n_components': 0.8}</td>\n",
       "      <td>0.649011</td>\n",
       "    </tr>\n",
       "    <tr>\n",
       "      <th>116</th>\n",
       "      <td>Tf_Idf</td>\n",
       "      <td>0.310077</td>\n",
       "      <td>PCA TSNE</td>\n",
       "      <td>{'learning_rate': 300, 'method': 'barnes_hut', 'pca__n_components': 0.4, 'perplexity': 30, 'tsne__n_components': 2}</td>\n",
       "      <td>8.466193</td>\n",
       "    </tr>\n",
       "    <tr>\n",
       "      <th>219</th>\n",
       "      <td>BERT</td>\n",
       "      <td>0.207891</td>\n",
       "      <td>PCA TSNE</td>\n",
       "      <td>{'learning_rate': 300, 'method': 'barnes_hut', 'pca__n_components': 0.9, 'perplexity': 40, 'tsne__n_components': 3}</td>\n",
       "      <td>12.611284</td>\n",
       "    </tr>\n",
       "  </tbody>\n",
       "</table>\n",
       "</div>"
      ],
      "text/plain": [
       "    Feature_Extraction       ARI Preprocessing_name  \\\n",
       "90    Count_Vectorizer  0.356129           PCA TSNE   \n",
       "38           Fast_Text  0.348862                PCA   \n",
       "19            Word2vec  0.347887                PCA   \n",
       "65                 USE  0.347113                PCA   \n",
       "28               Glove  0.343875                PCA   \n",
       "46               Spacy  0.340565                PCA   \n",
       "116             Tf_Idf  0.310077           PCA TSNE   \n",
       "219               BERT  0.207891           PCA TSNE   \n",
       "\n",
       "                                                                                                    Preprocessing_params  \\\n",
       "90   {'learning_rate': 300, 'method': 'barnes_hut', 'pca__n_components': 0.5, 'perplexity': 40, 'tsne__n_components': 2}   \n",
       "38                                                                                            {'pca__n_components': 0.7}   \n",
       "19                                                                                            {'pca__n_components': 0.8}   \n",
       "65                                                                                            {'pca__n_components': 0.7}   \n",
       "28                                                                                            {'pca__n_components': 0.8}   \n",
       "46                                                                                            {'pca__n_components': 0.8}   \n",
       "116  {'learning_rate': 300, 'method': 'barnes_hut', 'pca__n_components': 0.4, 'perplexity': 30, 'tsne__n_components': 2}   \n",
       "219  {'learning_rate': 300, 'method': 'barnes_hut', 'pca__n_components': 0.9, 'perplexity': 40, 'tsne__n_components': 3}   \n",
       "\n",
       "     Fit_score  \n",
       "90    9.233767  \n",
       "38    0.598999  \n",
       "19    0.667997  \n",
       "65    0.616001  \n",
       "28    0.860000  \n",
       "46    0.649011  \n",
       "116   8.466193  \n",
       "219  12.611284  "
      ]
     },
     "execution_count": 34,
     "metadata": {},
     "output_type": "execute_result"
    }
   ],
   "source": [
    "# Displays the best scores per Feature Extration Matrix\n",
    "\n",
    "top_per_feature_extraction_df = \\\n",
    "    ari_scores_df.loc[\n",
    "        ari_scores_df['ARI'].sort_values(ascending=False).index]\\\n",
    "    .drop_duplicates(subset=['Feature_Extraction'])\n",
    "\n",
    "with pd.option_context('display.max_colwidth', None):    \n",
    "    top_per_feature_extraction_df"
   ]
  },
  {
   "cell_type": "code",
   "execution_count": 35,
   "id": "c2d6dada",
   "metadata": {},
   "outputs": [
    {
     "data": {
      "image/png": "[encoded data removed]",
      "text/plain": [
       "<Figure size 1440x720 with 1 Axes>"
      ]
     },
     "metadata": {
      "needs_background": "light"
     },
     "output_type": "display_data"
    }
   ],
   "source": [
    "# Plots the best scores per Feature Extration Matrix\n",
    "\n",
    "fig, ax = plt.subplots(figsize=(20,10))\n",
    "\n",
    "sns.barplot(data=top_per_feature_extraction_df, \n",
    "            x='Feature_Extraction',\n",
    "            y='ARI',\n",
    "            palette = ['#66c2a5'],\n",
    "            ax = ax)\n",
    "\n",
    "for bars in ax.containers:\n",
    "        ax.bar_label(bars, fmt='%.2f', fontsize=text_size)\n",
    "        \n",
    "ax.set_ylim((0,1))\n",
    "ax.set_ylabel('ARI Scores', fontsize=text_size)\n",
    "ax.set_xlabel('Feature Extration Matrix', fontsize=text_size)\n",
    "\n",
    "ax.tick_params(labelsize=tick_size)\n",
    "\n",
    "plt.xticks(rotation=45, ha='right')\n",
    "\n",
    "plt.title('Best scores per Feature Extration Matrix',\n",
    "          fontsize=title_size,\n",
    "          pad=20) \n",
    "\n",
    "plt.show();"
   ]
  },
  {
   "cell_type": "code",
   "execution_count": 36,
   "id": "ce29203a",
   "metadata": {},
   "outputs": [
    {
     "data": {
      "text/html": [
       "<div>\n",
       "<style scoped>\n",
       "    .dataframe tbody tr th:only-of-type {\n",
       "        vertical-align: middle;\n",
       "    }\n",
       "\n",
       "    .dataframe tbody tr th {\n",
       "        vertical-align: top;\n",
       "    }\n",
       "\n",
       "    .dataframe thead th {\n",
       "        text-align: right;\n",
       "    }\n",
       "</style>\n",
       "<table border=\"1\" class=\"dataframe\">\n",
       "  <thead>\n",
       "    <tr style=\"text-align: right;\">\n",
       "      <th></th>\n",
       "      <th>Feature_Extraction</th>\n",
       "      <th>ARI</th>\n",
       "      <th>Preprocessing_name</th>\n",
       "      <th>Preprocessing_params</th>\n",
       "      <th>Fit_score</th>\n",
       "    </tr>\n",
       "  </thead>\n",
       "  <tbody>\n",
       "    <tr>\n",
       "      <th>90</th>\n",
       "      <td>Count_Vectorizer</td>\n",
       "      <td>0.356129</td>\n",
       "      <td>PCA TSNE</td>\n",
       "      <td>{'learning_rate': 300, 'method': 'barnes_hut', 'pca__n_components': 0.5, 'perplexity': 40, 'tsne__n_components': 2}</td>\n",
       "      <td>9.233767</td>\n",
       "    </tr>\n",
       "    <tr>\n",
       "      <th>38</th>\n",
       "      <td>Fast_Text</td>\n",
       "      <td>0.348862</td>\n",
       "      <td>PCA</td>\n",
       "      <td>{'pca__n_components': 0.7}</td>\n",
       "      <td>0.598999</td>\n",
       "    </tr>\n",
       "    <tr>\n",
       "      <th>296</th>\n",
       "      <td>Word2vec</td>\n",
       "      <td>0.322232</td>\n",
       "      <td>SVD</td>\n",
       "      <td>{'svd__n_components': 10}</td>\n",
       "      <td>0.563847</td>\n",
       "    </tr>\n",
       "    <tr>\n",
       "      <th>265</th>\n",
       "      <td>Count_Vectorizer</td>\n",
       "      <td>0.292484</td>\n",
       "      <td>LDA</td>\n",
       "      <td>{'lda__n_components': 5}</td>\n",
       "      <td>3.312330</td>\n",
       "    </tr>\n",
       "    <tr>\n",
       "      <th>318</th>\n",
       "      <td>Tf_Idf</td>\n",
       "      <td>0.262904</td>\n",
       "      <td>NMF</td>\n",
       "      <td>{'nmf__n_components': 10}</td>\n",
       "      <td>1.682985</td>\n",
       "    </tr>\n",
       "  </tbody>\n",
       "</table>\n",
       "</div>"
      ],
      "text/plain": [
       "    Feature_Extraction       ARI Preprocessing_name  \\\n",
       "90    Count_Vectorizer  0.356129           PCA TSNE   \n",
       "38           Fast_Text  0.348862                PCA   \n",
       "296           Word2vec  0.322232                SVD   \n",
       "265   Count_Vectorizer  0.292484                LDA   \n",
       "318             Tf_Idf  0.262904                NMF   \n",
       "\n",
       "                                                                                                    Preprocessing_params  \\\n",
       "90   {'learning_rate': 300, 'method': 'barnes_hut', 'pca__n_components': 0.5, 'perplexity': 40, 'tsne__n_components': 2}   \n",
       "38                                                                                            {'pca__n_components': 0.7}   \n",
       "296                                                                                            {'svd__n_components': 10}   \n",
       "265                                                                                             {'lda__n_components': 5}   \n",
       "318                                                                                            {'nmf__n_components': 10}   \n",
       "\n",
       "     Fit_score  \n",
       "90    9.233767  \n",
       "38    0.598999  \n",
       "296   0.563847  \n",
       "265   3.312330  \n",
       "318   1.682985  "
      ]
     },
     "execution_count": 36,
     "metadata": {},
     "output_type": "execute_result"
    }
   ],
   "source": [
    "# Displays the best scores per Dimentionality Reduction Technique\n",
    "\n",
    "top_per_preprocessing_technique_df = \\\n",
    "    ari_scores_df.loc[\n",
    "        ari_scores_df['ARI'].sort_values(ascending=False).index]\\\n",
    "    .drop_duplicates(subset=['Preprocessing_name'])\n",
    "\n",
    "with pd.option_context('display.max_colwidth', None):    \n",
    "    top_per_preprocessing_technique_df"
   ]
  },
  {
   "cell_type": "code",
   "execution_count": 37,
   "id": "e44cd8d8",
   "metadata": {},
   "outputs": [
    {
     "data": {
      "image/png": "[encoded data removed]",
      "text/plain": [
       "<Figure size 1440x720 with 1 Axes>"
      ]
     },
     "metadata": {
      "needs_background": "light"
     },
     "output_type": "display_data"
    }
   ],
   "source": [
    "# Plots the best scores per Feature Extration Matrix\n",
    "\n",
    "fig, ax = plt.subplots(figsize=(20,10))\n",
    "\n",
    "sns.barplot(data=top_per_preprocessing_technique_df, \n",
    "            x='Preprocessing_name',\n",
    "            y='ARI',\n",
    "            palette = ['#66c2a5'],\n",
    "            ax = ax)\n",
    "\n",
    "for bars in ax.containers:\n",
    "        ax.bar_label(bars, fmt='%.2f', fontsize=text_size)\n",
    "        \n",
    "ax.set_ylim((0,1))\n",
    "ax.set_ylabel('ARI Scores', fontsize=text_size)\n",
    "ax.set_xlabel('Dimentionality Reduction Technique', fontsize=text_size)\n",
    "\n",
    "ax.tick_params(labelsize=tick_size)\n",
    "\n",
    "plt.title('Best scores per Feature Dimentionality Reduction Technique',\n",
    "          fontsize=title_size,\n",
    "          pad=40) \n",
    "\n",
    "plt.show();"
   ]
  },
  {
   "cell_type": "markdown",
   "id": "abc5ebc2",
   "metadata": {},
   "source": [
    "<center><h1>Supervised"
   ]
  },
  {
   "cell_type": "code",
   "execution_count": 38,
   "id": "87210161",
   "metadata": {},
   "outputs": [],
   "source": [
    "# Inits a dataframe to commit results of supervised trials\n",
    "\n",
    "supervised_results_df = pd.DataFrame(columns=['Feature Extraction', 'Accuracy'])"
   ]
  },
  {
   "cell_type": "markdown",
   "id": "1be06f27",
   "metadata": {},
   "source": [
    "BOW"
   ]
  },
  {
   "cell_type": "code",
   "execution_count": 39,
   "id": "e86c1920",
   "metadata": {},
   "outputs": [],
   "source": [
    "# Defines BOW Pipelines\n",
    "\n",
    "count_vectorizer_pipeline = Pipeline([\n",
    "    ('clean_corpus', CorpusCleaner()),\n",
    "    ('cv_transformer', CountVectorizer()),\n",
    "    ('random_forest_clf', RandomForestClassifier(max_depth=10, \n",
    "                                                 random_state=random_seed))\n",
    "])\n",
    "\n",
    "tf_idf_pipeline = Pipeline([\n",
    "    ('clean_corpus', CorpusCleaner()),\n",
    "    ('tf_idf', TfidfVectorizer()),\n",
    "    ('random_forest_clf', RandomForestClassifier(max_depth=10, \n",
    "                                                 random_state=random_seed))\n",
    "])"
   ]
  },
  {
   "cell_type": "code",
   "execution_count": null,
   "id": "9ae33beb",
   "metadata": {},
   "outputs": [],
   "source": [
    "# Grid searches count_vectorizer_pipeline\n",
    "\n",
    "count_vectorizer_params = [dict()]\n",
    "\n",
    "count_vectorizer_gs = GridSearchCV(\n",
    "                           count_vectorizer_pipeline, \n",
    "                           count_vectorizer_params, \n",
    "                           cv=5, \n",
    "                           scoring='accuracy',\n",
    "                           return_train_score=True,\n",
    "                           refit=True,\n",
    "                           verbose=5)\n",
    "\n",
    "count_vectorizer_gs.fit(X, y);"
   ]
  },
  {
   "cell_type": "code",
   "execution_count": null,
   "id": "415effa2",
   "metadata": {},
   "outputs": [],
   "source": [
    "# Grid searches tf_idf_pipeline\n",
    "\n",
    "tf_idf_params = [dict()]\n",
    "\n",
    "tf_idf_gs = GridSearchCV(tf_idf_pipeline, \n",
    "                         tf_idf_params, \n",
    "                         cv=5, \n",
    "                         scoring='accuracy',\n",
    "                         return_train_score=True,\n",
    "                         refit=True,\n",
    "                         verbose=5)\n",
    "\n",
    "tf_idf_gs.fit(X, y);"
   ]
  },
  {
   "cell_type": "code",
   "execution_count": 42,
   "id": "f929cf69",
   "metadata": {},
   "outputs": [],
   "source": [
    "# Commits the above computed results\n",
    "\n",
    "supervised_results_df.loc[0, ['Feature Extraction', 'Accuracy']] = \\\n",
    "    'CountVectorizer', count_vectorizer_gs.cv_results_['mean_test_score'][0]\n",
    "\n",
    "supervised_results_df.loc[1, ['Feature Extraction', 'Accuracy']] = \\\n",
    "    'TF-IDF', tf_idf_gs.cv_results_['mean_test_score'][0]"
   ]
  },
  {
   "cell_type": "markdown",
   "id": "3f2024b1",
   "metadata": {},
   "source": [
    "Context Free Embeddings"
   ]
  },
  {
   "cell_type": "code",
   "execution_count": 43,
   "id": "6147c703",
   "metadata": {},
   "outputs": [],
   "source": [
    "# Defines context_free_embedding_pipeline\n",
    "\n",
    "context_free_embedding_pipeline = Pipeline([\n",
    "    ('corpus_embedder', CorpusEmbedder()),\n",
    "    ('random_forest_clf', RandomForestClassifier(max_depth=10, \n",
    "                                                 random_state=random_seed))\n",
    "])"
   ]
  },
  {
   "cell_type": "code",
   "execution_count": null,
   "id": "6b2233c6",
   "metadata": {},
   "outputs": [],
   "source": [
    "# Grid searches context_free_embedding_pipeline\n",
    "\n",
    "context_free_embedding_params = [{\n",
    "    'corpus_embedder__embedder':[word2vec, glove, nlp, fast_text]\n",
    "}]\n",
    "\n",
    "context_free_embedding_gs = GridSearchCV(\n",
    "                           context_free_embedding_pipeline, \n",
    "                           context_free_embedding_params, \n",
    "                           cv=5, \n",
    "                           scoring='accuracy',\n",
    "                           return_train_score=True,\n",
    "                           refit=False,\n",
    "                           verbose=5)\n",
    "\n",
    "context_free_embedding_gs.fit(X, y);"
   ]
  },
  {
   "cell_type": "code",
   "execution_count": 45,
   "id": "53a336c7",
   "metadata": {},
   "outputs": [],
   "source": [
    "# Commits the above computed results\n",
    "\n",
    "supervised_results_df.loc[2, ['Feature Extraction', 'Accuracy']] = \\\n",
    "    'Word2Vec', context_free_embedding_gs.cv_results_['mean_test_score'][0]\n",
    "\n",
    "supervised_results_df.loc[3, ['Feature Extraction', 'Accuracy']] = \\\n",
    "    'Glove', context_free_embedding_gs.cv_results_['mean_test_score'][1]\n",
    "\n",
    "supervised_results_df.loc[4, ['Feature Extraction', 'Accuracy']] = \\\n",
    "    'Spacy', context_free_embedding_gs.cv_results_['mean_test_score'][2]\n",
    "\n",
    "supervised_results_df.loc[5, ['Feature Extraction', 'Accuracy']] = \\\n",
    "    'Fast-Text', context_free_embedding_gs.cv_results_['mean_test_score'][3]"
   ]
  },
  {
   "cell_type": "markdown",
   "id": "63aabcab",
   "metadata": {},
   "source": [
    "Sentence Embeddings"
   ]
  },
  {
   "cell_type": "code",
   "execution_count": 46,
   "id": "30c0cfd7",
   "metadata": {},
   "outputs": [],
   "source": [
    "# Defines sentence_embedding_pipeline\n",
    "\n",
    "sentence_embedding_pipeline = Pipeline([\n",
    "    ('sentence_embedder', SentenceEmbedder()),\n",
    "    ('random_forest_clf', RandomForestClassifier(max_depth=10, \n",
    "                                                 random_state=random_seed))\n",
    "])"
   ]
  },
  {
   "cell_type": "code",
   "execution_count": 47,
   "id": "a59c7921",
   "metadata": {},
   "outputs": [
    {
     "name": "stdout",
     "output_type": "stream",
     "text": [
      "Fitting 5 folds for each of 2 candidates, totalling 10 fits\n",
      "[CV 1/5] END sentence_embedder__method=bert;, score=(train=0.960, test=0.338) total time= 1.9min\n",
      "[CV 2/5] END sentence_embedder__method=bert;, score=(train=0.962, test=0.581) total time= 1.9min\n",
      "[CV 3/5] END sentence_embedder__method=bert;, score=(train=0.948, test=0.576) total time= 1.8min\n",
      "[CV 4/5] END sentence_embedder__method=bert;, score=(train=0.961, test=0.519) total time= 1.9min\n",
      "[CV 5/5] END sentence_embedder__method=bert;, score=(train=0.965, test=0.524) total time= 1.8min\n",
      "[CV 1/5] END sentence_embedder__method=use;, score=(train=0.998, test=0.562) total time= 1.0min\n",
      "[CV 2/5] END sentence_embedder__method=use;, score=(train=0.996, test=0.752) total time=  56.3s\n",
      "[CV 3/5] END sentence_embedder__method=use;, score=(train=0.998, test=0.714) total time=  56.9s\n",
      "[CV 4/5] END sentence_embedder__method=use;, score=(train=0.999, test=0.705) total time=  50.0s\n",
      "[CV 5/5] END sentence_embedder__method=use;, score=(train=0.998, test=0.695) total time=  57.8s\n"
     ]
    },
    {
     "data": {
      "text/plain": [
       "GridSearchCV(cv=5,\n",
       "             estimator=Pipeline(steps=[('sentence_embedder',\n",
       "                                        SentenceEmbedder()),\n",
       "                                       ('random_forest_clf',\n",
       "                                        RandomForestClassifier(max_depth=10,\n",
       "                                                               random_state=34))]),\n",
       "             param_grid=[{'sentence_embedder__method': ['bert', 'use']}],\n",
       "             refit=False, return_train_score=True, scoring='accuracy',\n",
       "             verbose=5)"
      ]
     },
     "execution_count": 47,
     "metadata": {},
     "output_type": "execute_result"
    }
   ],
   "source": [
    "# Grid searches sentence_embedding_pipeline\n",
    "\n",
    "sentence_embedding_pipeline_params = [{\n",
    "    'sentence_embedder__method':['bert', 'use']\n",
    "}]\n",
    "\n",
    "with warnings.catch_warnings():\n",
    "    \n",
    "    # UserWarning: User provided device_type of 'cuda', \n",
    "    # but CUDA is not available. Disabling\n",
    "    warnings.simplefilter('ignore')\n",
    "\n",
    "    sentence_embedding_pipeline_gs = GridSearchCV(\n",
    "                               sentence_embedding_pipeline, \n",
    "                               sentence_embedding_pipeline_params, \n",
    "                               cv=5, \n",
    "                               scoring='accuracy',\n",
    "                               return_train_score=True,\n",
    "                               refit=False,\n",
    "                               verbose=5)\n",
    "\n",
    "    sentence_embedding_pipeline_gs.fit(X, y);"
   ]
  },
  {
   "cell_type": "code",
   "execution_count": 48,
   "id": "171eb24f",
   "metadata": {},
   "outputs": [],
   "source": [
    "# Commits the above computed results\n",
    "\n",
    "supervised_results_df.loc[6, ['Feature Extraction', 'Accuracy']] = \\\n",
    "    'BERT', sentence_embedding_pipeline_gs.cv_results_['mean_test_score'][0]\n",
    "\n",
    "supervised_results_df.loc[7, ['Feature Extraction', 'Accuracy']] = \\\n",
    "    'USE', sentence_embedding_pipeline_gs.cv_results_['mean_test_score'][1]"
   ]
  },
  {
   "cell_type": "code",
   "execution_count": 49,
   "id": "e5ee2069",
   "metadata": {},
   "outputs": [
    {
     "data": {
      "image/png": "[encoded data removed]",
      "text/plain": [
       "<Figure size 1440x720 with 1 Axes>"
      ]
     },
     "metadata": {
      "needs_background": "light"
     },
     "output_type": "display_data"
    }
   ],
   "source": [
    "# Plots the best scores per Feature Extration Matrix\n",
    "\n",
    "fig, ax = plt.subplots(figsize=(20,10))\n",
    "\n",
    "sns.barplot(data=supervised_results_df, \n",
    "            x='Feature Extraction',\n",
    "            y='Accuracy',\n",
    "            palette = ['#66c2a5'],\n",
    "            ax = ax)\n",
    "\n",
    "for bars in ax.containers:\n",
    "        ax.bar_label(bars, fmt='%.2f', fontsize=text_size)\n",
    "        \n",
    "ax.set_ylim((0,1))\n",
    "ax.set_ylabel('Accuracy Score', fontsize=text_size)\n",
    "ax.set_xlabel('Feature Extraction', fontsize=text_size)\n",
    "\n",
    "ax.tick_params(labelsize=tick_size)\n",
    "ax.tick_params(axis='x', rotation=90)\n",
    "\n",
    "\n",
    "plt.title('Mean test accuracy score of feature extraction techniques (CV:5)',\n",
    "          fontsize=title_size,\n",
    "          pad=40) \n",
    "\n",
    "plt.show();"
   ]
  }
 ],
 "metadata": {
  "kernelspec": {
   "display_name": "Python 3 (ipykernel)",
   "language": "python",
   "name": "python3"
  },
  "language_info": {
   "codemirror_mode": {
    "name": "ipython",
    "version": 3
   },
   "file_extension": ".py",
   "mimetype": "text/x-python",
   "name": "python",
   "nbconvert_exporter": "python",
   "pygments_lexer": "ipython3",
   "version": "3.8.12"
  }
 },
 "nbformat": 4,
 "nbformat_minor": 5
}
